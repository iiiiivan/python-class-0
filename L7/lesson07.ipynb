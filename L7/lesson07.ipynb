{
 "cells": [
  {
   "cell_type": "code",
   "execution_count": 3,
   "metadata": {},
   "outputs": [
    {
     "name": "stdout",
     "output_type": "stream",
     "text": [
      "hello would\n"
     ]
    }
   ],
   "source": [
    "print(\"hello would\")"
   ]
  },
  {
   "cell_type": "code",
   "execution_count": 5,
   "metadata": {},
   "outputs": [
    {
     "name": "stdout",
     "output_type": "stream",
     "text": [
      "['food', 'cellphone', 'ps4']\n"
     ]
    }
   ],
   "source": [
    "favorite_things=[]\n",
    "for i in range(3):\n",
    "    thing = input('what is your favorite things')\n",
    "    favorite_things.append(thing)\n",
    "print(favorite_things)\n"
   ]
  },
  {
   "cell_type": "code",
   "execution_count": 6,
   "metadata": {},
   "outputs": [
    {
     "name": "stdout",
     "output_type": "stream",
     "text": [
      "number = 10\n",
      "number = 50\n",
      "number = 100\n"
     ]
    }
   ],
   "source": [
    "number=[\"10\", \"50\", \"100\"]\n",
    "for i in range(len(number)):\n",
    "    print('number =',number[i])"
   ]
  },
  {
   "cell_type": "code",
   "execution_count": 8,
   "metadata": {},
   "outputs": [
    {
     "name": "stdout",
     "output_type": "stream",
     "text": [
      "10 is 2*5\n",
      "50 is 10*10\n",
      "100 is 10*10\n"
     ]
    }
   ],
   "source": [
    "number=[\"10\", \"50\", \"100\"]\n",
    "for i in range(len(number)):\n",
    "    if number[i] ==\"10\":\n",
    "        print(number[i], \"is 2*5\" )\n",
    "    else:\n",
    "        print(number[i], \"isn't 2*5\")    "
   ]
  },
  {
   "cell_type": "code",
   "execution_count": 22,
   "metadata": {},
   "outputs": [
    {
     "name": "stdout",
     "output_type": "stream",
     "text": [
      "10 is 2*5\n",
      "50 is 25+25\n",
      "100 isn't 2*5\n"
     ]
    }
   ],
   "source": [
    "number=[\"10\", \"50\", \"100\"]\n",
    "for n in number:\n",
    "    if n ==\"10\":\n",
    "        print(n, \"is 2*5\" )\n",
    "    elif n ==\"50\":\n",
    "        print(n, \"is 25+25\")\n",
    "    else:\n",
    "        print(n, \"isn't 2*5\")    "
   ]
  }
 ],
 "metadata": {
  "interpreter": {
   "hash": "c4cdca8cf6037a262b76618109a328ec3d85c282afcc942ccf996e017a3001e3"
  },
  "kernelspec": {
   "display_name": "Python 3.8.3 64-bit ('base': conda)",
   "name": "python3"
  },
  "language_info": {
   "codemirror_mode": {
    "name": "ipython",
    "version": 3
   },
   "file_extension": ".py",
   "mimetype": "text/x-python",
   "name": "python",
   "nbconvert_exporter": "python",
   "pygments_lexer": "ipython3",
   "version": "3.8.3"
  },
  "orig_nbformat": 4
 },
 "nbformat": 4,
 "nbformat_minor": 2
}
